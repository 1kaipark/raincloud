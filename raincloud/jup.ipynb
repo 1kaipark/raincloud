{
 "cells": [
  {
   "cell_type": "code",
   "execution_count": 1,
   "id": "initial_id",
   "metadata": {
    "collapsed": true,
    "ExecuteTime": {
     "end_time": "2024-05-19T04:00:30.852829Z",
     "start_time": "2024-05-19T03:57:06.043207Z"
    }
   },
   "outputs": [
    {
     "name": "stdout",
     "output_type": "stream",
     "text": [
      "HLS streaming, warning SLOW download\n"
     ]
    },
    {
     "name": "stderr",
     "output_type": "stream",
     "text": [
      "Downloading HLS: 100%|██████████| 162/162 [03:20<00:00,  1.24s/chunk]\n"
     ]
    },
    {
     "data": {
      "text/plain": "(['PLUS MIX+++'], ['James Ivy'])"
     },
     "execution_count": 1,
     "metadata": {},
     "output_type": "execute_result"
    }
   ],
   "source": [
    "CLIENT_ID = 'xIJ58BvVuXifNTdPWBSey2YJz9snyV8J'\n",
    "\n",
    "from raincloud import SCTrack, SCSet\n",
    "pmix = SCTrack(CLIENT_ID, 'https://soundcloud.com/jamesivvy/james-ivy-mix-for-skyward-plus')\n",
    "pmix.stream_download('/Users/applelaptop/Downloads')"
   ]
  },
  {
   "cell_type": "code",
   "outputs": [],
   "source": [
    "pmix.resolved"
   ],
   "metadata": {
    "collapsed": false
   },
   "id": "59b8945dd23fa00c",
   "execution_count": null
  },
  {
   "cell_type": "code",
   "outputs": [],
   "source": [
    "from raincloud import SCBase\n",
    "\n",
    "self = SCBase(CLIENT_ID, 'https://soundcloud.com/intothemaw/sets/bladee-instrumentals')\n",
    "\n",
    "\n"
   ],
   "metadata": {
    "collapsed": false,
    "ExecuteTime": {
     "end_time": "2024-05-18T19:00:25.314814Z",
     "start_time": "2024-05-18T19:00:25.311605Z"
    }
   },
   "id": "e52a7fb9dc210694",
   "execution_count": 9
  },
  {
   "cell_type": "code",
   "outputs": [
    {
     "name": "stderr",
     "output_type": "stream",
     "text": [
      "Downloading Progressive: 192chunk [00:00, 255chunk/s]                       \n"
     ]
    },
    {
     "name": "stdout",
     "output_type": "stream",
     "text": [
      "/Users/applelaptop/Downloads/+++2c (kimj remix) demo.mp3 downloaded, size: 1.49 MB.\n"
     ]
    },
    {
     "data": {
      "text/plain": "(['+++2c (kimj remix) demo'], ['kimj'])"
     },
     "execution_count": 2,
     "metadata": {},
     "output_type": "execute_result"
    }
   ],
   "source": [
    "from raincloud import SCTrack\n",
    "CLIENT_ID = 'xIJ58BvVuXifNTdPWBSey2YJz9snyV8J'\n",
    "t = SCTrack(CLIENT_ID, 'https://soundcloud.com/youngkimj/2c-kimj-remix-demo')\n",
    "t.progressive_streaming\n",
    "t.stream_download('/Users/applelaptop/Downloads')"
   ],
   "metadata": {
    "collapsed": false,
    "ExecuteTime": {
     "end_time": "2024-05-19T04:01:53.760708Z",
     "start_time": "2024-05-19T04:01:48.085316Z"
    }
   },
   "id": "a0bf59dc168e216c",
   "execution_count": 2
  },
  {
   "cell_type": "code",
   "outputs": [
    {
     "name": "stderr",
     "output_type": "stream",
     "text": [
      "Downloading Progressive: 192B [00:00, 289B/s]                           \n"
     ]
    },
    {
     "name": "stdout",
     "output_type": "stream",
     "text": [
      "/Users/applelaptop/Downloads/+++2c (kimj remix) demo.mp3 downloaded, size: 1.49 MB.\n"
     ]
    },
    {
     "data": {
      "text/plain": "(['+++2c (kimj remix) demo'], ['kimj'])"
     },
     "execution_count": 3,
     "metadata": {},
     "output_type": "execute_result"
    }
   ],
   "source": [],
   "metadata": {
    "collapsed": false,
    "ExecuteTime": {
     "end_time": "2024-05-19T04:01:07.686520Z",
     "start_time": "2024-05-19T04:01:03.697399Z"
    }
   },
   "id": "857d2e5e04cbc86",
   "execution_count": 3
  },
  {
   "cell_type": "code",
   "outputs": [],
   "source": [],
   "metadata": {
    "collapsed": false
   },
   "id": "46aa442fefd50dcd"
  }
 ],
 "metadata": {
  "kernelspec": {
   "display_name": "Python 3",
   "language": "python",
   "name": "python3"
  },
  "language_info": {
   "codemirror_mode": {
    "name": "ipython",
    "version": 2
   },
   "file_extension": ".py",
   "mimetype": "text/x-python",
   "name": "python",
   "nbconvert_exporter": "python",
   "pygments_lexer": "ipython2",
   "version": "2.7.6"
  }
 },
 "nbformat": 4,
 "nbformat_minor": 5
}
