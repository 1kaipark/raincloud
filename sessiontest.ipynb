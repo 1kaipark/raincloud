{
 "cells": [
  {
   "cell_type": "code",
   "execution_count": 4,
   "metadata": {},
   "outputs": [
    {
     "name": "stderr",
     "output_type": "stream",
     "text": [
      "Searching for client_id...:  55%|█████▍    | 6/11 [00:00<00:00, 14.37it/s]"
     ]
    }
   ],
   "source": [
    "from bs4 import BeautifulSoup\n",
    "import requests\n",
    "import re\n",
    "from tqdm import tqdm\n",
    "\n",
    "scrape_url: str = \"https://soundcloud.com/1taejoon/bands\"\n",
    "\n",
    "def scrape_client_id(src_url: str) -> str:\n",
    "    \"\"\"Attempts to pull client_id from soundcloud URL using BeautifulSoup. Method adapted from https://github.com/3jackdaws/soundcloud-lib/tree/master\"\"\"\n",
    "    html_text: str = requests.get(src_url).text\n",
    "    soup = BeautifulSoup(html_text, 'html.parser')\n",
    "\n",
    "    scripts = soup.findAll('script', attrs={'src': True})\n",
    "    parsed_cids: list[str] = []\n",
    "    for script in tqdm(scripts, desc=\"Searching for client_id...\"):\n",
    "        script_text: str = requests.get(script['src']).text\n",
    "        if 'client_id' in script_text:\n",
    "            parsed: str = re.findall(r'client_id=([a-zA-Z0-9]+)', script_text)\n",
    "            if parsed:\n",
    "                parsed_cids.append(parsed[0])\n",
    "\n",
    "    return sorted(parsed_cids, key=lambda v: len(v))[-1]\n",
    "\n",
    "\n",
    "client_id = scrape_client_id(scrape_url)\n"
   ]
  },
  {
   "cell_type": "code",
   "execution_count": 2,
   "metadata": {},
   "outputs": [
    {
     "ename": "NameError",
     "evalue": "name 'scrape_url' is not defined",
     "output_type": "error",
     "traceback": [
      "\u001b[1;31m---------------------------------------------------------------------------\u001b[0m",
      "\u001b[1;31mNameError\u001b[0m                                 Traceback (most recent call last)",
      "Cell \u001b[1;32mIn[2], line 3\u001b[0m\n\u001b[0;32m      1\u001b[0m \u001b[38;5;28;01mfrom\u001b[39;00m \u001b[38;5;21;01mraincloud\u001b[39;00m \u001b[38;5;28;01mimport\u001b[39;00m SCTrack\n\u001b[1;32m----> 3\u001b[0m track \u001b[38;5;241m=\u001b[39m SCTrack(\u001b[38;5;124m'\u001b[39m\u001b[38;5;124mb\u001b[39m\u001b[38;5;124m'\u001b[39m, scrape_url)\n",
      "\u001b[1;31mNameError\u001b[0m: name 'scrape_url' is not defined"
     ]
    }
   ],
   "source": [
    "from raincloud import SCTrack\n",
    "\n",
    "track = SCTrack('b', scrape_url)"
   ]
  },
  {
   "cell_type": "code",
   "execution_count": 3,
   "metadata": {},
   "outputs": [
    {
     "data": {
      "text/plain": [
       "SCTrack('1taejoon - bands')"
      ]
     },
     "execution_count": 3,
     "metadata": {},
     "output_type": "execute_result"
    }
   ],
   "source": [
    "track"
   ]
  },
  {
   "cell_type": "code",
   "execution_count": 4,
   "metadata": {},
   "outputs": [
    {
     "data": {
      "text/plain": [
       "'yLfooVZK5emWPvRLZQlSuGTO8pof6z4t'"
      ]
     },
     "execution_count": 4,
     "metadata": {},
     "output_type": "execute_result"
    }
   ],
   "source": [
    "client_id"
   ]
  },
  {
   "cell_type": "code",
   "execution_count": null,
   "metadata": {},
   "outputs": [],
   "source": []
  }
 ],
 "metadata": {
  "kernelspec": {
   "display_name": "base",
   "language": "python",
   "name": "python3"
  },
  "language_info": {
   "codemirror_mode": {
    "name": "ipython",
    "version": 3
   },
   "file_extension": ".py",
   "mimetype": "text/x-python",
   "name": "python",
   "nbconvert_exporter": "python",
   "pygments_lexer": "ipython3",
   "version": "3.12.4"
  }
 },
 "nbformat": 4,
 "nbformat_minor": 2
}
